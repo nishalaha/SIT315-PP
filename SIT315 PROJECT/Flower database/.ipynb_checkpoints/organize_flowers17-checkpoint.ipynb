{
 "cells": [
  {
   "cell_type": "code",
   "execution_count": 1,
   "metadata": {},
   "outputs": [
    {
     "name": "stdout",
     "output_type": "stream",
     "text": [
      "[INFO] Downloading flowers17 dataset....\n",
      "[INFO] Succesfully downloaded 17flowers.tgz 60270631 bytes.\n",
      "[INFO] Dataset extracted successfully.\n"
     ]
    }
   ],
   "source": [
    "#-----------------------------------------\n",
    "# DOWNLOAD AND ORGANIZE FLOWERS17 DATASET\n",
    "#-----------------------------------------\n",
    "import os\n",
    "import glob\n",
    "import datetime\n",
    "import tarfile\n",
    "import urllib.request\n",
    "\n",
    "def download_dataset(filename, url, work_dir):\n",
    "\tif not os.path.exists(filename):\n",
    "\t\tprint(\"[INFO] Downloading flowers17 dataset....\")\n",
    "\t\tfilename, _ = urllib.request.urlretrieve(url + filename, filename)\n",
    "\t\tstatinfo = os.stat(filename)\n",
    "\t\tprint(\"[INFO] Succesfully downloaded \" + filename + \" \" + str(statinfo.st_size) + \" bytes.\")\n",
    "\t\tuntar(filename, work_dir)\n",
    "\n",
    "def jpg_files(members):\n",
    "\tfor tarinfo in members:\n",
    "\t\tif os.path.splitext(tarinfo.name)[1] == \".jpg\":\n",
    "\t\t\tyield tarinfo\n",
    "\n",
    "def untar(fname, path):\n",
    "\ttar = tarfile.open(fname)\n",
    "\ttar.extractall(path=path, members=jpg_files(tar))\n",
    "\ttar.close()\n",
    "\tprint(\"[INFO] Dataset extracted successfully.\")\n",
    "\n",
    "#-------------------------\n",
    "# MAIN FUNCTION\n",
    "#-------------------------\n",
    "if __name__ == '__main__':\n",
    "\tflowers17_url  = \"http://www.robots.ox.ac.uk/~vgg/data/flowers/17/\"\n",
    "\tflowers17_name = \"17flowers.tgz\"\n",
    "\ttrain_dir      = \"dataset\"\n",
    "\n",
    "\tif not os.path.exists(train_dir):\n",
    "\t\tos.makedirs(train_dir)\n",
    "\n",
    "\tdownload_dataset(flowers17_name, flowers17_url, train_dir)\n",
    "\tif os.path.exists(train_dir + \"\\\\jpg\"):\n",
    "\t\tos.rename(train_dir + \"\\\\jpg\", train_dir + \"\\\\train\")\n",
    "\n",
    "\n",
    "\t# get the class label limit\n",
    "\tclass_limit = 17\n",
    "\n",
    "\t# take all the images from the dataset\n",
    "\timage_paths = glob.glob(train_dir + \"\\\\train\\\\*.jpg\")\n",
    "\n",
    "\t# variables to keep track\n",
    "\tlabel = 0\n",
    "\ti = 0\n",
    "\tj = 80\n",
    "\n",
    "\t# flower17 class names\n",
    "\tclass_names = [\"daffodil\", \"snowdrop\", \"lilyvalley\", \"bluebell\", \"crocus\",\n",
    "\t\t\t   \t   \"iris\", \"tigerlily\", \"tulip\", \"fritillary\", \"sunflower\", \n",
    "\t\t\t       \"daisy\", \"coltsfoot\", \"dandelion\", \"cowslip\", \"buttercup\",\n",
    "\t\t\t       \"windflower\", \"pansy\"]\n",
    "\n",
    "\t# loop over the class labels\n",
    "\tfor x in range(1, class_limit+1):\n",
    "\t\t# create a folder for that class\n",
    "\t\tos.makedirs(train_dir + \"\\\\train\\\\\" + class_names[label])\n",
    "\t\t\n",
    "\t\t# get the current path\n",
    "\t\tcur_path = train_dir + \"\\\\train\\\\\" + class_names[label] + \"\\\\\"\n",
    "\t\t\n",
    "\t\t# loop over the images in the dataset\n",
    "\t\tfor index, image_path in enumerate(image_paths[i:j], start=1):\n",
    "\t\t\toriginal_path   = image_path\n",
    "\t\t\timage_path      = image_path.split(\"\\\\\")\n",
    "\t\t\timage_file_name = str(index) + \".jpg\"\n",
    "\t\t\tos.rename(original_path, cur_path + image_file_name)\n",
    "\t\t\n",
    "\t\ti += 80\n",
    "\t\tj += 80\n",
    "\t\tlabel += 1"
   ]
  },
  {
   "cell_type": "code",
   "execution_count": null,
   "metadata": {},
   "outputs": [],
   "source": []
  }
 ],
 "metadata": {
  "kernelspec": {
   "display_name": "Python 3",
   "language": "python",
   "name": "python3"
  },
  "language_info": {
   "codemirror_mode": {
    "name": "ipython",
    "version": 3
   },
   "file_extension": ".py",
   "mimetype": "text/x-python",
   "name": "python",
   "nbconvert_exporter": "python",
   "pygments_lexer": "ipython3",
   "version": "3.7.4"
  }
 },
 "nbformat": 4,
 "nbformat_minor": 2
}
